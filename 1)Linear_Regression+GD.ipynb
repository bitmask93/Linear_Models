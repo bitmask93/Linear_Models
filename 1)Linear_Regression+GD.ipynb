{
 "cells": [
  {
   "cell_type": "markdown",
   "metadata": {},
   "source": [
    "# 1) Linear Regression\n",
    "\n",
    "- Attempts to model the relationship between two variables by fitting a linear equation to the observed data.\n",
    "\n",
    "- One variable is considered to be an explanatory variable(independent variable x) and other is considered to be a dependend variable(y)\n",
    "\n",
    "- But first we must understand if there is a relationship between the variables of interest: this does not necessarily mean one causes another but there is some significant association between the two variables.\n",
    "\n",
    "- Scatterplot can be used to determine the strength of the relationship between the two variables:\n",
    "    \n",
    "            * If there is no relationship between the exploratory and dependent variable, then there is no point in fitting a linear model\n",
    "            \n",
    "            * Scatter plot does not indicate any increasing or decreasing trends.\n",
    "            \n",
    "- A valuable numerical association between two variables is the correlation coefficient which is a value between [-1,1] indicating the strength of association of the observed data for two variables.\n",
    "\n",
    "\n",
    "\n",
    "- A linear regression line has an equation of the form:\n",
    "\n",
    "$$y = a\\times x + b $$\n",
    "\n",
    "- Here x = independet or exploratory variable and y = dependent variable.\n",
    "\n",
    "- a = intercept , b = slope of the line\n",
    "\n",
    "\n",
    "- Say dataset is $X = \\left \\{ x_{i1},x_{i2}.....x_{ip} \\right \\}_{i=1}^{n}$ of n features.\n",
    "\n",
    "\n",
    "- Let the dependent variable be $y = \\left \\{ y_{1},y_{2},y_{3}......y_{n} \\right \\}$\n",
    "\n",
    "\n",
    "- Assuming there is a linear dependency between $x$ and $y$, the model prediction can be given as :\n",
    "\n",
    "$$y_{i} = w_{0}+w_{1}x_{i1}+w_{2}x_{i2}+......+w_{p}x_{ip}$$ $$ i = 1.....n$$\n",
    "\n",
    "$w_{1},w_{2}.....w_{p}$ = model weights\n",
    "\n",
    "\n",
    "- Using vector notation, we can write this as : \n",
    "\n",
    "    - $Y = \\begin{bmatrix}y_{1}\\\\ .\\\\ .\\\\y_{n}\\\\\\end{bmatrix}$   $W = \\begin{bmatrix}w_{0}\\\\.\\\\.\\\\w_{p}\\end{bmatrix}$  $ X =  \\begin{bmatrix}x_{1}^{T}\\\\ .\\\\.\\\\x_{n}^{T} \\end{bmatrix}$\n",
    "\n",
    "\n",
    "- Now, we can write the prediction matrix $\\bar{Y}$ as : \n",
    "\n",
    "$$\\bar{Y} = W^{T}X$$\n",
    "\n",
    "\n",
    "- $w_{0}$ = Intercept term\n",
    "\n",
    "- $w_{1},w_{2}.......w_{p}$ = Model parameters\n",
    "\n",
    "- $W$ = Parameter Vector\n",
    "\n",
    "\n",
    "\n",
    "### 1.1) Linear Regression Assumptions \n",
    "\n",
    "- **Linearity :** The relationshio between $X$ and $Y$ must be linear. We can check this using Scatter Plots.\n",
    "\n",
    "\n",
    "- **Normality :** For any value of $X$ and $Y$, it should be normally distributed. We can check this using (Q-Q) plot. Normality can be checked with a goodness of fit test(K-S) test. When data is not normally distributed, we can use non-linear transformation(eg: log-transformation) to solve the issue.\n",
    "\n",
    "\n",
    "\n",
    "- **Homoscedasticity :** The variance of residuals is same for any value of $X$.\n",
    "\n",
    "\n",
    "- **No or Little Multicollinearity :** This happens when independent variables are too highly correlated with each other.\n",
    "\n",
    "\n",
    "#### 1.1.1) Test for multicollinearity:\n",
    "  \n",
    "  1)<u> Correlation Matrix </u>:\n",
    "      Compute Pearson's Bivariate Correlation amoung all independent variables and coorelation coefficient must be smaller than 1.\n",
    "      \n",
    "  2)<u> Tolerence </u>:\n",
    "      Measures the influence of one independent variable on all the independent variables.\n",
    "      $$Tolerence(T) = 1-R^{2}$$\n",
    "      \n",
    "   **<u>Calculating Tolerence</u>**\n",
    "   \n",
    "   1) Regress each independent variable on all other independent value.\n",
    "       \n",
    "   2) Substract each $R^{2}$ value from 1. If $T<1$ => Might be multicollinearity. If $T<0.01$ => Multicollinearity.\n",
    "   \n",
    "  \n",
    "  3)<u>Variance Inflation Factor</u>:\n",
    "  \n",
    "  $VIF = \\frac{1}{T}$\n",
    "  \n",
    "  VIF = 1 => Not Multicollinearity\n",
    "  \n",
    "  VIF Between 1 - 5 => Moderately Multicollinear\n",
    "  \n",
    "  VIF >10 => High multicollinearity\n",
    "  \n",
    "  \n",
    "  - Mean Centering could help solve the problem of Multicollinearity.\n",
    "  \n",
    "  - Remove independent variables with high VIF values.\n",
    "       \n",
    "       \n",
    "       \n",
    "**Anscombe's quartet**\n",
    "\n",
    "- This comprises of 4 datasets that have nearly identical simple descriptive statistics(ie nearly identical means, standard deviations, and correlations) yet have different distributions and appear very differently when graphed.\n",
    "\n",
    "\n",
    "- The following diagram illustrates the pitfalls of relying solely on a fitted model to understand the relationship between variables:\n",
    "\n",
    "<img src=\"images/anscomb.png\" width=\"700\" height=\"700\">\n",
    "\n",
    "\n",
    "- They were created to demonstrate the importance of graphing data before analyzing it and the effect of outliers and other influential observations on Statistical properties.\n",
    "\n",
    "\n",
    "**Generalized Linear Models(GLM)**\n",
    "\n",
    "- GLM's are a framework for modelling response variables that are continuous(bounded) or discrete.\n",
    "\n",
    "- They can be used:\n",
    "    \n",
    "    - When modelling positive quantiles(prices of polulation) that vay over large scale. They can be described using a skewed distribution such as log-normal or Poisson.\n",
    "    \n",
    "    - Modelling Categorical data where there are fixed number of choices that cannot be meaningfully ordered. They can be modelled with a) Bernaulli/binomial distribution(Binary Choices) or b) Categorical/Multinomial Choices(multi-class)\n",
    "\n",
    "- A GLM is made up of a linear predictor\n",
    "\n",
    "$$y = w_{0} + w_{1}x_{1i}+.....w_{p}x_{pi}$$ $$i = 1...n$$\n",
    "\n",
    "- A link function 'g' that relates the mean of the response variable(s) to the predictors:\n",
    "\n",
    "\n",
    "$$g(\\mu )  = y$$\n",
    "\n",
    "\n",
    "$$g(\\mu ) = W^{T}X$$\n",
    "\n",
    "\n",
    "$$\\mu = g^{-1}(W^{T}X)$$\n",
    "\n",
    "\n",
    "- The link function is often related to the distribution of response, and in particular it typically has the effect of response, and in particular it typically has the effect of transforming $\\left ( -\\infty,+ \\infty \\right )$ range of the linear predictor and the range of response variable.\n",
    "\n",
    "\n",
    "- eg: When modelling Binomial data, 'g' must map from (0,1) -> $\\left ( -\\infty,+ \\infty \\right )$. So a common choice would be to choose:\n",
    "\n",
    "$$g\\left ( \\mu_{i}  \\right ) = logit(\\mu_{i}) = log\\left ( \\frac{\\mu_{i}}{1 - \\mu_{i}} \\right )$$\n",
    "\n",
    "- For more on GLM's refer : https://statmath.wu.ac.at/courses/heather_turner/glmCourse_001.pdf"
   ]
  },
  {
   "cell_type": "markdown",
   "metadata": {},
   "source": [
    "### 1.2) Training Linear Regression  \n",
    "\n",
    " $$y = W^{T}X$$\n",
    "\n",
    "- We need to measure the goodness of fit or how well the model fits the data.\n",
    "\n",
    "\n",
    "<img src=\"images/lr-intuition.png\" width=\"300\" height=\"300\">\n",
    "\n",
    "- In linear regression, the observations (red) are assumed to be the result of random deviations (green) from an underlying relationship (blue) between a dependent variable (y) and an independent variable (x).\n",
    "\n",
    "\n",
    "- In LR., we try to minimize the deviations. How to measure this deviation.\n",
    "\n",
    "\n",
    "- One Common metric for that is the Mean(Mean Square Error)\n",
    "\n",
    "\n",
    "- To train a Linear Regression model, you need to find the value $W$ that minimizes the MSE.\n",
    "\n",
    "\n",
    " $$ L(W) = MSE(X,y) = \\frac{1}{n}\\sum_{i=1}^{n}\\left ( W^{T}x^{\\left ( i \\right )} - y^{(i)} \\right ) $$\n",
    "\n",
    "\n",
    "- There is an Analytical Solution to find the $W$ that minimizes this loss/cost function also called Normal Equation.\n",
    "\n",
    "\n",
    "$$\\hat{W} = \\left ( X^{T}X \\right )^{-1}X^{T}y$$\n",
    "\n",
    "- Proof : https://en.wikipedia.org/wiki/Linear_regression\n",
    "\n",
    "\n",
    "- $\\hat{W}$ = Value of W that minimizes the loss function.\n",
    "\n",
    "\n",
    "- $y$ = Vector of target values containing $y^{1}.....y^{m}$\n",
    "\n",
    "\n",
    "- However computing the inverse of $(X^{T}X)^{-1}$ for an $n \\times n$ matrix is about $O(n^{2.4}) \\approx O(n^{3})$ depending on the implementation.\n",
    "\n",
    "\n",
    "- Hence this is a very slow process. However for extremely large datasets that might not fit into RAM, this method cannot be applied.\n",
    "\n",
    "\n",
    "- But Predictions are extremely fast $\\approx O(m)$ where m = number of features\n",
    "\n",
    "\n"
   ]
  },
  {
   "cell_type": "markdown",
   "metadata": {},
   "source": [
    "### 1.3) Gradient Descent"
   ]
  },
  {
   "cell_type": "markdown",
   "metadata": {},
   "source": [
    "- This is a generic optimization technique capable of finding optimal solutions to a wide range of problems.\n",
    "\n",
    "\n",
    "- Thee Genral idea is to tweak the parameters iteratively to minimize a loss/cost function.\n",
    "\n",
    "\n",
    "- For a GD to work, the loss function must be differentiable. This method is also called the steepest descent method.\n",
    "\n",
    "\n",
    "<img src=\"images/gd-1.jpg\" width=\"400\" height=\"400\">\n",
    "\n",
    "\n",
    "- If Learning Rate = too small => GD. takes too much time to converge.\n",
    "\n",
    "\n",
    "- If Learning Rate = Large => May not converge as it misses the minimum.\n",
    "\n",
    "\n",
    "<img src=\"images/gd-lr.png\" width=\"700\" height=\"700\">\n",
    "\n",
    "\n",
    "- What if the functions don't look like convex functions\n",
    "\n",
    "\n",
    "<img src=\"images/gd-localmin.png\" width=\"400\" height=\"400\">\n",
    "\n",
    "\n",
    "- In this case we can reset the initial value and do again.\n",
    "\n",
    "\n",
    "- The Loss function for Linear Regression(MSE) is a convex function ie if we pick any two points in the curve, the line segment joining them never crosses the line. This means that there are no local minima but a single global minimum and also it is a continuous function.\n",
    "\n",
    "\n",
    "- G.D. is guaranteed to approach arbitrarily close to the global minimum.\n",
    "\n",
    "\n",
    "- Train a Model => Search for a combination of model parameters that minimizes the Loss function. \n"
   ]
  },
  {
   "cell_type": "markdown",
   "metadata": {},
   "source": [
    "$$L(W) = \\frac{1}{n}\\sum_{i=1}^{n}\\left ( W^{T}x^{(i)} - y^{i}  \\right )^{2}$$\n",
    "\n",
    "\n",
    "- We need to find a direction where function decreases and we need to take a step in this direction.\n",
    "\n",
    "- Optimization Problem: $\\underset{W}{min}L(W)$\n",
    "\n",
    "\n",
    "- Let Initial weights = $w^{0}$\n",
    "\n",
    "\n",
    "- The gradient vector :\n",
    "\n",
    "$$\\bigtriangledown L(w^{0}) = \\left ( \\frac{\\delta L(w^{0})}{\\delta w_{1}} + \\frac{\\delta L(w^{0})}{\\delta w_{2}} + .......+ \\frac{\\delta L(w^{0})}{\\delta w_{n}} \\right )$$\n",
    "\n",
    "\n",
    "- This Gradient Vector points in the direction of Steepest Ascent at $w^{0}$.\n",
    "\n",
    "\n",
    "- This function has a fast decreasing rate in the direction of negative gradient.\n",
    "\n",
    "\n",
    "$$\\frac{\\delta L(w)}{\\delta w_{j}} = \\frac{2}{m}\\sum_{i=1}^{m}\\left ( w^{T}x^{(i)} - y^{(i)} \\right )\\left ( x_{j}^{(i)} \\right )$$\n",
    "\n",
    "\n",
    "$$\\bigtriangledown _{w}L(w) = \\begin{bmatrix}\\frac{\\delta L(w)}{\\delta w_{1}}\\\\ \\frac{\\delta L(w)}{\\delta w_{2}}\\\\.\\\\.\\\\\\frac{\\delta L(w)}{\\delta w_{n}} \\end{bmatrix} = \\frac{2}{m}X^{T}\\left ( X.w - y \\right )$$\n",
    "\n",
    "\n",
    "\n",
    "- **Gradient Descent Step :**\n",
    "\n",
    "$$w^{t} = w^{t-1} - \\eta \\bigtriangledown _{w}L(w^{t-1})$$\n",
    "\n",
    "- Where $\\eta$ = Learning Rate\n",
    "\n",
    "\n",
    "- When $\\eta$ = too small => The Algorithm eventually reach the optimal solution, but it will take too much time.\n",
    "\n",
    "\n",
    "- When $\\eta$ = too large => The Algorithm diverges jumping all over the place and actually getting further and further away from the solution at every step.\n",
    "\n",
    "\n",
    "- We can use GridSearch to find a good Learning Rate.\n",
    "\n",
    "\n",
    "- We can set the number of iterations to be large but to interruprt the algorithm when the gradient vector becomes tiny, we can calculate the norm of the Gradient vector at every step and if it is less than a tiny value $(\\epsilon)$, Gradient Descent has reached minimum so we must halt the Gradient Descent.\n",
    "\n",
    "\n",
    "- Gradient Descent works even in spaces of any number of dimensions even in infinite dimension ones.\n",
    "\n",
    "<img src=\"images/gd-pc.png\" width=\"400\" height=\"400\">\n"
   ]
  },
  {
   "cell_type": "markdown",
   "metadata": {},
   "source": [
    "### 1.3.1) Stochastic Gradient Descent"
   ]
  },
  {
   "cell_type": "markdown",
   "metadata": {},
   "source": [
    "- Batch Gradient Descent or Gradient Descent requires the whole training set in memory to compute the gradients at every step. This makes it slow when train set is huge. Also if the training dataset doesn't fit the memory we might not be able to use GD.\n",
    "\n",
    "\n",
    "- In SGD, we just pick a random instance in the training set at each step and then compute the gradients based only on that single instance.\n",
    "\n",
    "\n",
    "- This makes the algorithm fast since it has very little data to manipulate at every iteration. It also makes possible to train huge datasets that does not fit into memory.\n",
    "\n",
    "\n",
    "- Due to it's Stochastic(random) nature, the algorithm is much less regular than G.D. instead of decreasing untill it reaches the minimum, the Loss function will bounce up and down, decreasing only on average ie Noisy updates.\n",
    "\n",
    "\n",
    "- Over the time it will end up closer to minimum, but once it gets there it will continue to bounce around, never settling down. Once Algorithm stops final parameters are good but not optimal.\n",
    "\n",
    "\n",
    "<img src=\"images/sgd-gd.png\" width=\"700\" height=\"700\">\n",
    "\n",
    "\n",
    "- One advantage of having such updates is that, when there is an irregular function, then this can help the algorithm jump out of local minima, So SGD has better chance of finding global minimim than GD.\n",
    "\n",
    "\n",
    "- This Randomness can halp to avoid local minima, but what if the algorithm never settle at a minimum?\n",
    "    \n",
    "    - > Gradually reduce the learning rate\n",
    "    \n",
    "    - > The algorithm starts with large Learning Rate and then slowly reduce the learning rate and it becomes smaller and smaller allowing the algorithm to settle at Global minimum. This is called **simulated annealing**.\n",
    "    \n",
    "    - > The function that determines the Learning Rate at each iteration is called **learning rate scheduler**\n",
    "    \n",
    "    - > If Learning Rate is reduced too quickly, then the algorithm may get stuck in Local minima or Frozen halfway\n",
    "    \n",
    "    - > If Learning Rate is reduced too slowly, then we might jump around the minimum for a long time and end up in suboptimal solution.\n",
    "    \n",
    "    \n",
    "<img src=\"sgd-pc.png\" width=\"400\" height=\"400\">\n",
    "    "
   ]
  },
  {
   "cell_type": "markdown",
   "metadata": {},
   "source": [
    "### 1.3.2) Mini-Batch Stochastic Gradient Descent"
   ]
  },
  {
   "cell_type": "markdown",
   "metadata": {},
   "source": [
    "- Here, instead of computing gradients based on full training set (or) just a single instance, mini-batch GD computes the gradients on small random sets of instances called **mini-batches**.\n",
    "\n",
    "- The main advantage of mini-batch GD over SGD is that we can get performance boost from hardware optimization of matrix operations especially with a GPU.\n",
    "\n",
    "- Both Mini-SGD as well as SGD tends to walk around minimum but GD will converge to minimum, however GD takes more time to take each step\n",
    "\n",
    "-  Both SGD and mini-batch SGD would also reach minimum if good learning rate is chosen.\n",
    "\n",
    "<img src=\"images/mini-sgd.png\" width=\"700\" height=\"700\">\n",
    "\n",
    "\n",
    "<img src=\"images/msgd-pc.png\" width=\"400\" height=\"400\">\n"
   ]
  },
  {
   "cell_type": "markdown",
   "metadata": {},
   "source": [
    "### 1.4) Polynomial Regression"
   ]
  },
  {
   "cell_type": "markdown",
   "metadata": {},
   "source": [
    "- What if the data is more complex than simple straight line and cannot be fit with simple Linear Regression.\n",
    "\n",
    "\n",
    "- Polynomial Regreession is a regression analysis in which the relationship betwen an independent variable($X$) and dependent variable($y$) is modelled as an $n^{th}$ degree polynomial in $X$.\n",
    "\n",
    "\n",
    "- Fits non-linear relationship between the value $x$ and corresponding conditional mean of $y$ denoted as : $E(y | x)$\n",
    "\n",
    "\n",
    "- Although polynomial regression fits a non-linear model to the data, as a statistical estimation problem, it is linear, in the sense that the regression function $E(y|x)$ is linear in the unknown parameters that are estimated from the data.\n",
    "\n",
    "\n",
    "- Polynomial regression is considered as special case of multiple linear regression.\n",
    "\n",
    "\n",
    "- The goal of Polynomial Regression is to model the expected value of dependent variable $y$ in terms of independent variable(or vector of independent variables) $x$.\n",
    "\n",
    "\n",
    "- In simple Linear Regression, the model prediction is given as :\n",
    "\n",
    "$$y = w_{0}+w_{1}x$$\n",
    "\n",
    "- In many settings, such a linear relationship may not hold. For example: A quadratic model of the form will be like:\n",
    "\n",
    "$$y = w_{0} + w_{1}x + w_{2}x^{2}$$\n",
    "\n",
    "\n",
    "- In general, we can model an expected value of $y$ as an $n^{th}$ degree polynomial, yielding the general polynomial regression model:\n",
    "\n",
    "$$y = w_{0} + w_{1}x + w_{2}x^{2} + .....+w_{n}x^{n}$$\n",
    "\n",
    "\n",
    "- The models are all linear from the point of view of estimation, since the regression function is linear in terms of the unknown parameters $w_{0} , w_{1}...$\n",
    "\n",
    "\n",
    "- So for Least Squares analysis, the computational and Inferential problem of polynomial regression can be completely addressed using the techniques of multiple regression. This is done by treating $x,x^{2}....$ as being distinct independent variables in a multiple regression model.\n"
   ]
  },
  {
   "cell_type": "markdown",
   "metadata": {},
   "source": [
    "#### 1.4.1) Matrix form and Calculation of estimates\n",
    "\n",
    "\n",
    "$$y_{i} = w_{0} + w_{1}x_{i} + w_{2}x_{i}^{2} + ...... + w_{m}x_{i}^{m}$$$$(i = 1,2,.....,n)$$\n",
    "\n",
    "\n",
    "- This can be expressed in matrix form as : \n",
    "\n",
    "$$\\begin{bmatrix}y_{1}\\\\ y_{2}\\\\.\\\\.\\\\.\\\\y_{n} \\end{bmatrix} = \\begin{bmatrix}1 &x_{1}  &x_{1}^{2}  &.&.&.&.x_{1}^{m} \\\\ 1 &x_{2}  &x_{2}^{2}  &.&.&.&.x_{2}^{m} \\\\. &.  &.  &.&.&.&. \\\\. &.  &.  &.&.&.&. \\\\. &.  &.  &.&.&.&. \\\\1 &x_{n}  &x_{n}^{2}  &.&.&.&.x_{n}^{m}  \\end{bmatrix}\\begin{bmatrix}w_{0}\\\\ w_{1}\\\\ .\\\\ .\\\\ .\\\\ w_{m}\\end{bmatrix}$$\n",
    "\n",
    "\n",
    "- In pure Matrix Notation, this can be written as :\n",
    "\n",
    "$$ {y} = XW $$\n",
    "\n",
    "\n",
    "$$ \\tilde{W} = (X^{T}X)^{-1}(X^{T}{y}) $$\n",
    "\n",
    "\n",
    "- We can solve this using Gradient Descent as well."
   ]
  },
  {
   "cell_type": "markdown",
   "metadata": {},
   "source": [
    "### 1.5) Regularized Linear Models\n",
    "\n",
    "#### 1.5.1.1) Overfitting :\n",
    "\n",
    "- This occurs when a statisticsl model/ ML algorithm captures the noise of the data or intitively it happens when model (or) algorithm fits data too well.\n",
    "\n",
    "\n",
    "- Specifically Overfitting Occurs if the model (or) Algorithm shows low bias but high Variance. Overfitting models perform well on training data but generalizes poorly according to Cross-Validation metrics.\n",
    "\n",
    "\n",
    "**How to prevent it**\n",
    "- > Cross-Validation\n",
    "- > Train with more data\n",
    "- > Feature Selection\n",
    "- > Early Stopping\n",
    "- > Regularization\n",
    "- > Ensembling"
   ]
  },
  {
   "cell_type": "markdown",
   "metadata": {},
   "source": [
    "#### 1.5.1.2) Underfitting :\n",
    "\n",
    "- Occurs when a statistical model/ML algorithm cannot capture the underlying trend in the data or intuitively it happens when the model/Algorithm does not fit the data well enough.\n",
    "\n",
    "\n",
    "- Specifically, underfitting occurs if model (or) Algorithm shows low variance but high bias. This is a result of excessively simple model.\n",
    "\n",
    "\n",
    "- Underfitted models perform poorly in both train and validation data set.\n",
    "\n",
    "\n",
    "**How to prefent it**\n",
    "- > Increase the number of Parameters in ML models\n",
    "- > Increase complxity (or) type of model\n",
    "- > Increasing the training time untill cost function in ML model is minimized."
   ]
  },
  {
   "cell_type": "markdown",
   "metadata": {},
   "source": [
    "#### 1.5.1.3) Generalization Error :\n",
    "\n",
    "- Generalization error can be classified into 3 types. They are : \n",
    "\n",
    "1) **Bias** : This is due to wrong assumptions such as like data is linear when it is actually quadratic. When a model has high bias then it indicates that the model is an underfit model.\n",
    "\n",
    "2) **Variance** : This is due to model's excessive sensitivity to small variations in the training data. A model with high degrees of freedom(higher degree polynomial) is likely to have high variance and thus overfit the training data.\n",
    "\n",
    "3) **Irreducible Error** : This is due to noisiness in the data, this can be reduced by cleaning the data properly.\n",
    "\n",
    "\n",
    "**Bias-Variance tradeoff**\n",
    "\n",
    "- Increase in model's complexity will typically increase it's Variance and reduce it's bias.\n",
    "\n",
    "- Reducing a model's complexity will typically increase it's bias and reduce it's variance.\n",
    "\n",
    "- This is why it is called as Bias-Variance Tradeoff\n"
   ]
  },
  {
   "cell_type": "markdown",
   "metadata": {},
   "source": [
    "#### 1.5.2) Ridge Regression :\n",
    "\n",
    "- A good way to reduce overfitting is to regularize the model. The fewer degrees of freedom it has the harder it will be for the model to overfit the data. eg: A simple way to regularize a polynomial model is to reduce the number of polynomial degrees.\n",
    "\n",
    "\n",
    "- Ridge regression is a regularized version of Linear Regression with regularization term $\\alpha \\sum_{i=1}^{n}w_{i}^{2}$ is added to the Loss function.\n",
    "\n",
    "\n",
    "- This forces the Learning Algorithm to not only fit the data, but also keep the model weights as small as possible.\n",
    "\n",
    "\n",
    "- Regularization term must be added to the loss function only during training. Once the model is trained, we evaluate the model using unregularized performance measure.\n",
    "\n",
    "\n",
    "- The hyperparameter $\\alpha$ controls how much we want to regularize the models:\n",
    "- > If $\\alpha = 0$, Then Ridge Regression becomes Linear Regression.\n",
    "- > If $\\alpha = V.large$, then all weights end up close to zero and results in a flat line going through the mean of data.\n",
    "- > <img src=\"images/ridge-alpha.png\" width=\"700\" height=\"700\">\n",
    "- > From the above image it can be clearly seen that as alpha increases the line gets flatter and flatter\n",
    "\n",
    "- $$L_{reg}(w) = L(w) + \\alpha \\sum_{i=1}^{n}w_{i}^{2}$$\n",
    "\n",
    "- The bias term $w_{0}$ is not regularized\n",
    "\n",
    "\n",
    "- If **w** is the weight vector, then the regularization term is simply equal to $\\left \\| w \\right \\|_{2}^{2}$ where $\\left \\| . \\right \\|$ is the $L_{2}$ norm of the weight vector.\n",
    "\n",
    "\n",
    "- We can solve Ridge Regression using either SGD or Closed-form equation.\n",
    "\n",
    "\n",
    "$$\\hat{w} = (X^{T}X + \\alpha A)^{-1}X^{T}y$$\n",
    "\n",
    "- Where **A** is an $n\\times n$ identity matrix except with 0 in top-left which corresponds to the bias term."
   ]
  },
  {
   "cell_type": "markdown",
   "metadata": {},
   "source": [
    "#### 1.5.3) Lasso Regression :\n",
    "\n",
    "- Lasso(Least Absolute Shrinkage & Selection Operator Regression) is a Regularized version of Linear Regression.\n",
    "\n",
    "- Adds a regularization term to the Loss function. It uses $L_{1}$ norm of weight vector instead of $L_{2}$ norm.\n",
    "\n",
    "$$L_{reg}(w) = L(w) + \\alpha\\sum_{i=1}^{n}\\left | w_{i} \\right |$$\n",
    "\n",
    "- An important characteristic of $L_{1}$ regularization is that it completely eliminates the weights of least importance(ie set them to 0).\n",
    "\n",
    "\n",
    "- Lasso Regression automatically performs feature selection and outputs a sparse model. Lasso function is not differentiable at $w_{i} = 0$ (for $i = 1,2,3...n$). But GD. still works fine if we use a subgradient vector instead when any $w_{i} = 0$.\n",
    "\n",
    "$$\\bigtriangledown _{w}MSE(w) = \\begin{bmatrix}sign(w_{1})\\\\ sign(w_{2})\\\\.\\\\.\\\\sign(w_{n}) \\end{bmatrix}$$\n",
    "\n",
    "$$sign(w_{i}) = \\left\\{\\begin{matrix}-1 & w_{i}<0\\\\ 0& w_{i}=0\\\\ +1&w_{i}>0 \\end{matrix}\\right.$$"
   ]
  },
  {
   "cell_type": "markdown",
   "metadata": {},
   "source": [
    "#### 1.5.4) Elastic Net :\n",
    "\n",
    "- It is in between Ridge and Lasso Regression. The regularization term is a simple mix of both Ridge and Lasso Regression terms and we can control the mix ratio(r)\n",
    "\n",
    "- If $r = 0$ = > E.N $\\approx$ Ridge Regression\n",
    "\n",
    "- If $r = 1$ = > E.N $\\approx$ Lasso Regression\n",
    "\n",
    "$$L_{EN}(w) = L(w) + r\\alpha\\sum_{i=1}^{n}\\left | w_{i} \\right | + \\frac{1-r}{2}\\alpha\\sum_{i=1}^{n}w_{i}^2$$\n",
    "\n",
    "\n",
    "- **Now when to choose EN. over plain L.R ?**\n",
    "- > It is always preferable to have atleast a bit of regularization, so generally you should avoid plain LR.\n",
    "- > Ridge is good, but if we need to apply feature selection also, then go for Lasso or EN. since they tend to reduce the weights of useless features down to zero.\n",
    "- > Elastic Net is preferred over Lasso since Lasso may behave erratically when the number of Features is greater than the number of training instances (or) when several features are strongly correlated."
   ]
  },
  {
   "cell_type": "markdown",
   "metadata": {},
   "source": [
    "### 1.6) Extentions to Gradient Descent\n"
   ]
  },
  {
   "cell_type": "markdown",
   "metadata": {},
   "source": [
    "#### 1.6.1) Momentum Approach:\n",
    "\n",
    "- Stochastic gradient descent with momentum remembers the update $Δ w$ at each iteration, and determines the next update as a linear combination of the gradient and the previous update.\n",
    "\n",
    "\n",
    "- Here an additional vector $(h)$ is maintained at every iteration.\n",
    "\n",
    "\n",
    "$$h_{t} = \\alpha h_{t-1} + \\eta_{t}g_{t}$$\n",
    "\n",
    "\n",
    "$$w^{t} = w^{t-1} - h_{t}$$\n",
    "\n",
    "\n",
    "- $h_{t} = $ Weighted sum of gradients from all the previous iteration and from this iteration also.\n",
    "\n",
    "\n",
    "- Tends to move in the same direction as of previous steps. $h_{t}$ cancels some coordinates that lead to oscillation of gradients and help to achieve better convergence.\n",
    "\n",
    "\n",
    "- ie  The momentum term increases for dimensions whose gradients point in the same directions and reduces updates for dimensions whose gradients change directions. As a result, we gain faster convergence and reduced oscillation.\n",
    "\n",
    "\n",
    "- when using momentum, we push a ball down a hill. The ball accumulates momentum as it rolls downhill, becoming faster and faster on the way (until it reaches its terminal velocity if there is air resistance, i.e. $\\alpha < 1$\n",
    "\n",
    "\n",
    "- $h_{t}$ accumulates values along dimensions where the gradients have same sign.\n",
    "\n",
    "\n",
    "- Usually $\\alpha$ = 0.9\n",
    "\n",
    "\n",
    "<img src=\"images/sgd-mom.png\" width=\"700\" height=\"700\">\n"
   ]
  },
  {
   "cell_type": "markdown",
   "metadata": {},
   "source": [
    "#### 1.6.2) Nestrov Accelerated Momentum Approach:\n",
    "\n",
    "- A ball that rolls down a hill, blindly following the slope, is highly unsatisfactory. We'd like to have a smarter ball, a ball that has a notion of where it is going so that it knows to slow down before the hill slopes up again.\n",
    "\n",
    "\n",
    "$$h_{t} = \\alpha h_{t-1} + \\eta_{t}\\bigtriangledown_{L}(w^{t-1} - \\alpha h_{t-1})$$\n",
    "\n",
    "$$w^{t} = w^{t-1} - h_{t}$$\n",
    " \n",
    "\n",
    "<img src=\"images/sgd-nag.png\" width=\"700\" height=\"700\">\n",
    "\n",
    "\n",
    "- Here we first step in the direction of $h_{t}$ to get some new approximation of parameter vector and then calculate gradient at the new point.\n",
    "\n",
    "\n",
    "- Both NAG as well as Momentum approach is sensitive to learning rate$(\\eta)$\n"
   ]
  },
  {
   "cell_type": "markdown",
   "metadata": {},
   "source": [
    "#### 1.6.3) AdaGrad :\n",
    "\n",
    "- Adagrad is a modified SGD with per-parameter learning rate.\n",
    "\n",
    "\n",
    "- This increases the learning rate for sparser parameters and decreases the learning rate for ones that are less sparse.\n",
    "\n",
    "\n",
    "- Improves convergence performance over standard stochastic gradient descent in settings where data is sparse and sparse parameters are more informative. Examples of such applications include natural language processing and image recognition.\n",
    "\n",
    "\n",
    "$$G_{j}^{t} = G_{j}^{t} - g_{t,j}^{2}$$\n",
    "\n",
    "$$w_{j}^{t} = w_{j}^{t-1} - \\frac{\\eta _t}{\\sqrt{G_{j}^{t}+\\epsilon }}g_{t,j}$$\n",
    "\n",
    "\n",
    "- $g_{t,j} = $ Gradient at iteration t with respect to parameter j.\n",
    "\n",
    "\n",
    "- Here base learning rate can be fixed : $\\eta _t = 0.01$\n",
    "\n",
    "\n",
    "- $G = $ Sum of squares of gradients from all previous iterations\n",
    "\n",
    "\n",
    "- $G_{j}^{t}$ always increases which leads to early stopping which is a bit of problem too because sometimes $G$ becomes to large that it results in stopping before it reaches the minimum.\n",
    "\n",
    "\n",
    "- AdaGrad can be applied to non-convex optimization problems also.\n"
   ]
  },
  {
   "cell_type": "markdown",
   "metadata": {},
   "source": [
    "#### 1.6.4) RMSProp :\n",
    "\n",
    "- RMSProp (for Root Mean Square Propagation) is also a method in which the learning rate is adapted for each of the parameters. \n",
    "\n",
    "\n",
    "- RMSprop divides the learning rate by an exponentially decaying average of squared gradients. \n",
    "\n",
    "\n",
    "$$G_{j}^{t} = \\alpha G_{j}^{t-1} + (1-\\alpha)g_{t,j}^{2}$$\n",
    "\n",
    "$$w_{j}^{t} = w_{j}^{t-1} - \\frac{\\eta _t}{\\sqrt{G_{j}^{t}+\\epsilon }}g_{t,j}$$\n",
    "\n",
    "- RMSProp has shown excellent adaptation of learning rate in different applications. \n",
    "\n",
    "\n",
    "- RMSProp can work with mini-batches as well.\n",
    "\n",
    "\n",
    "- Typically $\\alpha = 0.9$ and default value of learning rate is set to $\\eta = 0.001$."
   ]
  },
  {
   "cell_type": "markdown",
   "metadata": {},
   "source": [
    "#### 1.6.5) Adam :\n",
    "\n",
    "-  Adaptive Moment Estimation(Adam) is an update to the RMSProp optimizer ie it computes the learning rates for each parameters adaptively.\n",
    "\n",
    "\n",
    "- In addition to storing an exponentially decaying average of past squared gradients like Adadelta and RMSprop, Adam also keeps an exponentially decaying average of past gradients, similar to momentum.\n",
    "\n",
    "\n",
    "- Momentum can be seen as a ball running down a slope, Adam behaves like a heavy ball with friction, which thus prefers flat minima in the error surface.\n",
    "\n",
    "\n",
    "$$V_{j}^{t} = \\frac{\\beta _{2}V_{j}^{t-1} + (1-\\beta_{2})}{1-\\beta_{2}^{t}}g_{t,j}^{2}$$\n",
    "\n",
    "$$w_{j}^{t} = w_{j}^{t-1} - \\frac{\\eta_{t}}{\\sqrt{V_{j}^{t}}+\\epsilon}g_{t,j}$$\n",
    "\n",
    "\n",
    "- The approximation $V$ has bias towards $0$ especially at initial steps cos we initialize $\\beta_{2}$ with $0$. So iorder to get rid of this bias, we divide by $1-\\beta_{2}^{t}$. This normalization allows to get rid of the bias."
   ]
  },
  {
   "cell_type": "markdown",
   "metadata": {},
   "source": [
    "### 1.7 Linear Regression with SGD implementation:"
   ]
  },
  {
   "cell_type": "code",
   "execution_count": 36,
   "metadata": {},
   "outputs": [],
   "source": [
    "import numpy as np\n",
    "%matplotlib inline\n",
    "import matplotlib.pyplot as plt\n",
    "from IPython impsort display\n"
   ]
  },
  {
   "cell_type": "code",
   "execution_count": 10,
   "metadata": {},
   "outputs": [],
   "source": [
    "#Create random set of Examples : \n",
    "X = np.random.rand(1000,4)\n",
    "y = 3 * X[:, 0] + 10 * X[:, 1] + -2 * X[:, 2] + -3 * X[:, 3]  # True Weights = [3,10,-2,-3]"
   ]
  },
  {
   "cell_type": "code",
   "execution_count": 14,
   "metadata": {},
   "outputs": [
    {
     "data": {
      "image/png": "[encoded data removed]",
      "text/plain": [
       "<Figure size 432x288 with 1 Axes>"
      ]
     },
     "metadata": {},
     "output_type": "display_data"
    },
    {
     "data": {
      "image/png": "[encoded data removed]",
      "text/plain": [
       "<Figure size 432x288 with 1 Axes>"
      ]
     },
     "metadata": {},
     "output_type": "display_data"
    },
    {
     "data": {
      "image/png": "[encoded data removed]",
      "text/plain": [
       "<Figure size 432x288 with 1 Axes>"
      ]
     },
     "metadata": {},
     "output_type": "display_data"
    },
    {
     "data": {
      "image/png": "[encoded data removed]",
      "text/plain": [
       "<Figure size 432x288 with 1 Axes>"
      ]
     },
     "metadata": {},
     "output_type": "display_data"
    }
   ],
   "source": [
    "#plot scatter plot of variables wrt. the targer variable.\n",
    "for i in range(X.shape[1]):\n",
    "    plt.scatter(X[:, i], y, s=20)\n",
    "    plt.show()"
   ]
  },
  {
   "cell_type": "markdown",
   "metadata": {},
   "source": [
    "- From the above plots we can clearly see that the 2nd feature with more weight is a very important feature here.\n",
    "\n",
    "- Now we know how to find the solution using Analytical solution which is :\n",
    "\n",
    "$$\\hat{W} = \\left ( X^{T}X \\right )^{-1}X^{T}y$$\n"
   ]
  },
  {
   "cell_type": "code",
   "execution_count": 16,
   "metadata": {},
   "outputs": [
    {
     "name": "stdout",
     "output_type": "stream",
     "text": [
      "Optimal weights =  [ 3. 10. -2. -3.]\n"
     ]
    }
   ],
   "source": [
    "dot_prd = np.dot(X.T,X)\n",
    "inv = np.linalg.inv(dot_prd) \n",
    "w_opt = np.dot(np.dot(inv,X.T),y)\n",
    "print('Optimal weights = ',w_opt)"
   ]
  },
  {
   "cell_type": "markdown",
   "metadata": {},
   "source": [
    "- This is same as our true weights."
   ]
  },
  {
   "cell_type": "markdown",
   "metadata": {},
   "source": [
    "#### Now we will use SGD to solve the problem\n",
    "\n",
    "\n",
    "- Gradient of loss function : $\\frac{2}{m}X^{T}\\left ( X.w - y \\right )$"
   ]
  },
  {
   "cell_type": "code",
   "execution_count": 45,
   "metadata": {},
   "outputs": [],
   "source": [
    "def mse_loss(X,w,y):\n",
    "    pred = np.dot(X,w)\n",
    "    mse = (np.square(y-pred)).mean()\n",
    "    return mse\n",
    "    \n",
    "def get_grads(X,w,y):\n",
    "    m = X.shape[0]\n",
    "    return (2/m)*np.dot(X.T,np.dot(X,w)-y)"
   ]
  },
  {
   "cell_type": "code",
   "execution_count": 50,
   "metadata": {},
   "outputs": [
    {
     "data": {
      "image/png": "[encoded data removed]",
      "text/plain": [
       "<Figure size 432x288 with 1 Axes>"
      ]
     },
     "metadata": {},
     "output_type": "display_data"
    }
   ],
   "source": [
    "#Simple SGD\n",
    "np.random.seed(42)\n",
    "w = np.array([0,0,0,0]) #Initial Weights\n",
    "eta= 0.1 # learning rate\n",
    "n_iter = 1000 # Number of Iterations\n",
    "batch_size = 128\n",
    "loss = np.zeros(n_iter)\n",
    "\n",
    "es = 0.0001 #For early stopping \n",
    "\n",
    "for i in range(n_iter):\n",
    "    ind = np.random.choice(X.shape[0], batch_size)\n",
    "    loss[i] = mse_loss(X[ind, :], w, y[ind])\n",
    "    w = w - eta*get_grads(X[ind, :], w, y[ind])\n",
    "    if(i%10==0):\n",
    "        plt.plot(loss[:i])\n",
    "        plt.grid()\n",
    "        ymin, ymax = plt.ylim()\n",
    "        plt.ylim(0, ymax)\n",
    "        plt.xlabel('Iterations')\n",
    "        plt.ylabel('Loss')\n",
    "        display.clear_output(wait=True)\n",
    "        plt.show()\n",
    "    \n",
    "    if(loss[i]<es):\n",
    "        break"
   ]
  },
  {
   "cell_type": "code",
   "execution_count": 57,
   "metadata": {},
   "outputs": [
    {
     "name": "stdout",
     "output_type": "stream",
     "text": [
      "mini-batch SGD Converged in :  322\n",
      "FInal Weights [ 3.00125892  9.96801032 -1.98367596 -2.98748938]\n"
     ]
    }
   ],
   "source": [
    "print(\"mini-batch SGD Converged in : \",i)\n",
    "print(\"FInal Weights\",w)"
   ]
  },
  {
   "cell_type": "markdown",
   "metadata": {},
   "source": [
    "- This is very close to our true weights"
   ]
  },
  {
   "cell_type": "code",
   "execution_count": 55,
   "metadata": {},
   "outputs": [
    {
     "data": {
      "text/plain": [
       "0.0001236901054422838"
      ]
     },
     "execution_count": 55,
     "metadata": {},
     "output_type": "execute_result"
    }
   ],
   "source": [
    "# Now we will calculate the predictions with the predicted weight and calcumate the mse\n",
    "mse_loss(X,w,y) "
   ]
  },
  {
   "cell_type": "markdown",
   "metadata": {},
   "source": [
    "- The error is also very less"
   ]
  },
  {
   "cell_type": "markdown",
   "metadata": {},
   "source": [
    "#### SGD With Momentum"
   ]
  },
  {
   "cell_type": "code",
   "execution_count": 60,
   "metadata": {},
   "outputs": [
    {
     "data": {
      "image/png": "[encoded data removed]",
      "text/plain": [
       "<Figure size 432x288 with 1 Axes>"
      ]
     },
     "metadata": {},
     "output_type": "display_data"
    }
   ],
   "source": [
    "np.random.seed(42)\n",
    "w = np.array([0,0,0,0]) #Initial Weights\n",
    "\n",
    "eta = 0.05 # learning rate\n",
    "alpha = 0.9 # momentum\n",
    "\n",
    "h = np.zeros_like(w)  #This is the additional vector\n",
    "\n",
    "es = 0.0001 #For early stopping \n",
    "\n",
    "\n",
    "n_iter = 1000\n",
    "batch_size = 128\n",
    "loss = np.zeros(n_iter)\n",
    "\n",
    "\n",
    "for i in range(n_iter):\n",
    "    ind = np.random.choice(X.shape[0], batch_size)\n",
    "    loss[i] = mse_loss(X[ind, :], w, y[ind])\n",
    "    \n",
    "    h = alpha*h + eta*get_grads(X[ind, :], w, y[ind])\n",
    "    \n",
    "    w = w-h\n",
    "    \n",
    "    if(i%10==0):\n",
    "        plt.plot(loss[:i])\n",
    "        plt.grid()\n",
    "        ymin, ymax = plt.ylim()\n",
    "        plt.ylim(0, ymax)\n",
    "        plt.xlabel('Iterations')\n",
    "        plt.ylabel('Loss')\n",
    "        display.clear_output(wait=True)\n",
    "        plt.show()\n",
    "        \n",
    "        \n",
    "    if(loss[i]<es):\n",
    "        break"
   ]
  },
  {
   "cell_type": "code",
   "execution_count": 61,
   "metadata": {},
   "outputs": [
    {
     "name": "stdout",
     "output_type": "stream",
     "text": [
      "mini-batch SGD Converged in :  99\n",
      "FInal Weights [ 3.0110051   9.98150995 -1.98861845 -2.98908499]\n",
      "MSE Loss =  0.00012119072244298674\n"
     ]
    }
   ],
   "source": [
    "print(\"mini-batch SGD Converged in : \",i)\n",
    "print(\"FInal Weights\",w)\n",
    "print('MSE Loss = ',mse_loss(X,w,y) )"
   ]
  },
  {
   "cell_type": "markdown",
   "metadata": {},
   "source": [
    "- Normal min-batch SGD took around 300 iterations to converge wheras Momentum took only 99 iterations, it is very fast."
   ]
  },
  {
   "cell_type": "markdown",
   "metadata": {},
   "source": [
    "#### SGD With Nestrov accelerated momentum"
   ]
  },
  {
   "cell_type": "code",
   "execution_count": 64,
   "metadata": {},
   "outputs": [
    {
     "data": {
      "image/png": "[encoded data removed]",
      "text/plain": [
       "<Figure size 432x288 with 1 Axes>"
      ]
     },
     "metadata": {},
     "output_type": "display_data"
    }
   ],
   "source": [
    "np.random.seed(42)\n",
    "w = np.array([0,0,0,0]) #Initial Weights\n",
    "\n",
    "eta = 0.05 # learning rate\n",
    "alpha = 0.9 # momentum\n",
    "\n",
    "h = np.zeros_like(w)  #This is the additional vector\n",
    "\n",
    "es = 0.0001 #For early stopping \n",
    "\n",
    "\n",
    "n_iter = 1000\n",
    "batch_size = 128\n",
    "loss = np.zeros(n_iter)\n",
    "\n",
    "\n",
    "for i in range(n_iter):\n",
    "    ind = np.random.choice(X.shape[0], batch_size)\n",
    "    loss[i] = mse_loss(X[ind, :], w, y[ind])\n",
    "    \n",
    "    h = alpha*h + eta*get_grads(X[ind, :], w-alpha*h, y[ind])  #Only change is here\n",
    "    \n",
    "    w = w-h\n",
    "    \n",
    "    if(i%10==0):\n",
    "        plt.plot(loss[:i])\n",
    "        plt.grid()\n",
    "        ymin, ymax = plt.ylim()\n",
    "        plt.ylim(0, ymax)\n",
    "        plt.xlabel('Iterations')\n",
    "        plt.ylabel('Loss')\n",
    "        display.clear_output(wait=True)\n",
    "        plt.show()\n",
    "        \n",
    "        \n",
    "    if(loss[i]<es):\n",
    "        break"
   ]
  },
  {
   "cell_type": "code",
   "execution_count": 65,
   "metadata": {},
   "outputs": [
    {
     "name": "stdout",
     "output_type": "stream",
     "text": [
      "mini-batch SGD Converged in :  68\n",
      "FInal Weights [ 2.97210585 10.00265989 -1.99139759 -2.97989916]\n",
      "MSE Loss =  0.00010935911636362774\n"
     ]
    }
   ],
   "source": [
    "print(\"mini-batch SGD Converged in : \",i)\n",
    "print(\"FInal Weights\",w)\n",
    "print('MSE Loss = ',mse_loss(X,w,y) )"
   ]
  },
  {
   "cell_type": "markdown",
   "metadata": {},
   "source": [
    "- Faster Convergence and better results than previous methods"
   ]
  },
  {
   "cell_type": "markdown",
   "metadata": {},
   "source": [
    "#### Adagrad"
   ]
  },
  {
   "cell_type": "code",
   "execution_count": 93,
   "metadata": {},
   "outputs": [
    {
     "data": {
      "image/png": "[encoded data removed]",
      "text/plain": [
       "<Figure size 432x288 with 1 Axes>"
      ]
     },
     "metadata": {},
     "output_type": "display_data"
    }
   ],
   "source": [
    "np.random.seed(42)\n",
    "w = np.array([0,0,0,0]) #Initial Weights\n",
    "\n",
    "eta = 0.01 # learning rate\n",
    "alpha = 0.9 # momentum\n",
    "gt = None\n",
    "gt1 = None\n",
    "\n",
    "eps = 1e-8 #To avoid division by zero\n",
    "es = 0.0001 #For early stopping \n",
    "\n",
    "\n",
    "n_iter = 1000\n",
    "batch_size = 128\n",
    "loss = np.zeros(n_iter)\n",
    "\n",
    "for i in range(n_iter):\n",
    "    ind = np.random.choice(X.shape[0], batch_size)\n",
    "    loss[i] = mse_loss(X[ind, :], w, y[ind])\n",
    "    \n",
    "    #Accumulating the gradients\n",
    "    gt = get_grads(X[ind, :], w, y[ind])**2\n",
    "    \n",
    "    if(i==0):\n",
    "        gt1 = gt\n",
    "    \n",
    "    else:\n",
    "        gt1 = gt1+gt\n",
    "    \n",
    "    #Weight updation\n",
    "    w = w - (eta*get_grads(X[ind, :], w, y[ind]))/np.sqrt(gt1+eps)\n",
    "    \n",
    "    if(i%10==0):\n",
    "        plt.plot(loss[:i])\n",
    "        plt.grid()\n",
    "        ymin, ymax = plt.ylim()\n",
    "        plt.ylim(0, ymax)\n",
    "        plt.xlabel('Iterations')\n",
    "        plt.ylabel('Loss')\n",
    "        display.clear_output(wait=True)\n",
    "        plt.show()\n",
    "        \n",
    "    if(loss[i]<es):\n",
    "        break"
   ]
  },
  {
   "cell_type": "code",
   "execution_count": 94,
   "metadata": {},
   "outputs": [
    {
     "name": "stdout",
     "output_type": "stream",
     "text": [
      "mini-batch SGD Converged in :  1000\n",
      "FInal Weights [0.58065154 0.58859395 0.56984391 0.56165143]\n",
      "MSE Loss =  16.770482551781814\n"
     ]
    }
   ],
   "source": [
    "print(\"mini-batch SGD Converged in : \",i+1)\n",
    "print(\"FInal Weights\",w)\n",
    "print('MSE Loss = ',mse_loss(X,w,y) )"
   ]
  },
  {
   "cell_type": "markdown",
   "metadata": {},
   "source": [
    "#### RMSProp"
   ]
  },
  {
   "cell_type": "code",
   "execution_count": 97,
   "metadata": {},
   "outputs": [
    {
     "data": {
      "image/png": "[encoded data removed]",
      "text/plain": [
       "<Figure size 432x288 with 1 Axes>"
      ]
     },
     "metadata": {},
     "output_type": "display_data"
    }
   ],
   "source": [
    "np.random.seed(42)\n",
    "w = np.array([0,0,0,0]) #Initial Weights\n",
    "\n",
    "eta = 0.05 # learning rate\n",
    "alpha = 0.9 # momentum\n",
    "gt = None\n",
    "eps = 1e-8\n",
    "es = 0.0001 #For early stopping \n",
    "\n",
    "\n",
    "n_iter = 1000\n",
    "batch_size = 128\n",
    "loss = np.zeros(n_iter)\n",
    "\n",
    "for i in range(n_iter):\n",
    "    ind = np.random.choice(X.shape[0], batch_size)\n",
    "    loss[i] = mse_loss(X[ind, :], w, y[ind])\n",
    "    \n",
    "    gt = get_grads(X[ind, :], w, y[ind])**2\n",
    "    gt = alpha*gt +(1-alpha)*gt\n",
    "    \n",
    "    w = w-(eta*get_grads(X[ind, :], w, y[ind]))/np.sqrt(gt+eps)\n",
    "    \n",
    "    if(i%10==0):\n",
    "        plt.plot(loss[:i])\n",
    "        plt.grid()\n",
    "        ymin, ymax = plt.ylim()\n",
    "        plt.ylim(0, ymax)\n",
    "        plt.xlabel('Iterations')\n",
    "        plt.ylabel('Loss')\n",
    "        display.clear_output(wait=True)\n",
    "        plt.show()\n",
    "        \n",
    "    if(loss[i]<es):\n",
    "        break"
   ]
  },
  {
   "cell_type": "code",
   "execution_count": 98,
   "metadata": {},
   "outputs": [
    {
     "name": "stdout",
     "output_type": "stream",
     "text": [
      "mini-batch SGD Converged in :  1000\n",
      "FInal Weights [ 3.10050876  9.80013145 -2.00028514 -2.99902859]\n",
      "MSE Loss =  0.006143874058183476\n"
     ]
    }
   ],
   "source": [
    "print(\"mini-batch SGD Converged in : \",i+1)\n",
    "print(\"FInal Weights\",w)\n",
    "print('MSE Loss = ',mse_loss(X,w,y) )"
   ]
  },
  {
   "cell_type": "markdown",
   "metadata": {},
   "source": [
    "#### Adam"
   ]
  },
  {
   "cell_type": "code",
   "execution_count": 107,
   "metadata": {},
   "outputs": [
    {
     "data": {
      "image/png": "[encoded data removed]",
      "text/plain": [
       "<Figure size 432x288 with 1 Axes>"
      ]
     },
     "metadata": {},
     "output_type": "display_data"
    }
   ],
   "source": [
    "np.random.seed(42)\n",
    "w = np.array([0,0,0,0]) #Initial Weights\n",
    "\n",
    "eta = 0.05 # learning rate\n",
    "alpha = 0.9 # momentum\n",
    "gt = None\n",
    "vt = 0\n",
    "beta = 0.0005\n",
    "\n",
    "eps = 1e-8\n",
    "es = 0.0001 #For early stopping \n",
    "\n",
    "\n",
    "n_iter = 1000\n",
    "batch_size = 128\n",
    "loss = np.zeros(n_iter)\n",
    "\n",
    "for i in range(n_iter):\n",
    "    ind = np.random.choice(X.shape[0], batch_size)\n",
    "    loss[i] = mse_loss(X[ind, :], w, y[ind])\n",
    "    \n",
    "    gt = get_grads(X[ind, :], w, y[ind])**2\n",
    "    \n",
    "    vt = (beta*vt) + (1-beta)*gt \n",
    "    \n",
    "    w = w-(eta*get_grads(X[ind, :], w, y[ind]))/np.sqrt(vt)+eps\n",
    "    \n",
    "    if(i%10==0):\n",
    "        plt.plot(loss[:i])\n",
    "        plt.grid()\n",
    "        ymin, ymax = plt.ylim()\n",
    "        plt.ylim(0, ymax)\n",
    "        plt.xlabel('Iterations')\n",
    "        plt.ylabel('Loss')\n",
    "        display.clear_output(wait=True)\n",
    "        plt.show()\n",
    "        \n",
    "    if(loss[i]<es):\n",
    "        break"
   ]
  },
  {
   "cell_type": "code",
   "execution_count": 108,
   "metadata": {},
   "outputs": [
    {
     "name": "stdout",
     "output_type": "stream",
     "text": [
      "mini-batch SGD Converged in :  1000\n",
      "FInal Weights [ 3.0615056   9.91395114 -1.97206378 -2.90447283]\n",
      "MSE Loss =  0.004484283193169871\n"
     ]
    }
   ],
   "source": [
    "print(\"mini-batch SGD Converged in : \",i+1)\n",
    "print(\"FInal Weights\",w)\n",
    "print('MSE Loss = ',mse_loss(X,w,y) )"
   ]
  },
  {
   "cell_type": "code",
   "execution_count": null,
   "metadata": {},
   "outputs": [],
   "source": []
  }
 ],
 "metadata": {
  "kernelspec": {
   "display_name": "Python 3",
   "language": "python",
   "name": "python3"
  },
  "language_info": {
   "codemirror_mode": {
    "name": "ipython",
    "version": 3
   },
   "file_extension": ".py",
   "mimetype": "text/x-python",
   "name": "python",
   "nbconvert_exporter": "python",
   "pygments_lexer": "ipython3",
   "version": "3.6.8"
  }
 },
 "nbformat": 4,
 "nbformat_minor": 2
}
